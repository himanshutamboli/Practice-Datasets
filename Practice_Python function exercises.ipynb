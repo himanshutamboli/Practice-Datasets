{
 "cells": [
  {
   "cell_type": "code",
   "execution_count": 1,
   "id": "aae88b27",
   "metadata": {},
   "outputs": [],
   "source": [
    "# Exercise 1: Create a function in Python\n",
    "# Write a program to create a function that takes two arguments (name and age) and print their value"
   ]
  },
  {
   "cell_type": "code",
   "execution_count": 2,
   "id": "6ca11abb",
   "metadata": {},
   "outputs": [],
   "source": [
    "def my_func(name,age):\n",
    "    return(name,age)"
   ]
  },
  {
   "cell_type": "code",
   "execution_count": 3,
   "id": "dacc87e7",
   "metadata": {},
   "outputs": [
    {
     "data": {
      "text/plain": [
       "('Himanshu', 25)"
      ]
     },
     "execution_count": 3,
     "metadata": {},
     "output_type": "execute_result"
    }
   ],
   "source": [
    "my_func(\"Himanshu\",25)"
   ]
  },
  {
   "cell_type": "code",
   "execution_count": 4,
   "id": "1f08f218",
   "metadata": {},
   "outputs": [],
   "source": [
    "# Exercise 2: Create a function with variable length of arguments\n",
    "# Write a program to create function func1() to accept a variable length of arguments and print their value\n",
    "# Note: Create a function in such a way that we can pass any number of arguments to this function and the function should process and display each argument’s value"
   ]
  },
  {
   "cell_type": "code",
   "execution_count": 4,
   "id": "012ada41",
   "metadata": {},
   "outputs": [],
   "source": [
    "def func_1(*args):\n",
    "    print(args)"
   ]
  },
  {
   "cell_type": "code",
   "execution_count": 5,
   "id": "9a02e640",
   "metadata": {},
   "outputs": [
    {
     "name": "stdout",
     "output_type": "stream",
     "text": [
      "(85, 'Himanshu', 78.36)\n"
     ]
    }
   ],
   "source": [
    "func_1(85,\"Himanshu\",78.36)"
   ]
  },
  {
   "cell_type": "code",
   "execution_count": 6,
   "id": "98348303",
   "metadata": {},
   "outputs": [
    {
     "name": "stdout",
     "output_type": "stream",
     "text": [
      "(65, 'Tamboli', 58)\n"
     ]
    }
   ],
   "source": [
    "func_1(65,\"Tamboli\",58)"
   ]
  },
  {
   "cell_type": "code",
   "execution_count": 7,
   "id": "56081209",
   "metadata": {},
   "outputs": [],
   "source": [
    "# Exercise 3: Return multiple values from a function\n",
    "# Write a program to create function calculation() such that it can accept two variables and calculate Addition and Subtraction.\n",
    "# Also, it must return both Addition and Sbtraction in a single return call"
   ]
  },
  {
   "cell_type": "code",
   "execution_count": 8,
   "id": "163613a3",
   "metadata": {},
   "outputs": [],
   "source": [
    "def calculation(a,b):\n",
    "    addition=a+b\n",
    "    substraction=a-b\n",
    "    return addition,substraction"
   ]
  },
  {
   "cell_type": "code",
   "execution_count": 9,
   "id": "67ab8aab",
   "metadata": {},
   "outputs": [
    {
     "data": {
      "text/plain": [
       "(50, 30)"
      ]
     },
     "execution_count": 9,
     "metadata": {},
     "output_type": "execute_result"
    }
   ],
   "source": [
    "calculation(40,10)"
   ]
  },
  {
   "cell_type": "code",
   "execution_count": 10,
   "id": "8d6aab59",
   "metadata": {},
   "outputs": [],
   "source": [
    "# Exercise 4: Create a function with default argument\n",
    "# Write a program to create a function show_employee() using the following conditions:\n",
    "# It should accept the employee’s name and salary and display both\n",
    "# If the salary is missing in the function call then assign default value 9000 to salary"
   ]
  },
  {
   "cell_type": "code",
   "execution_count": 11,
   "id": "bb67945a",
   "metadata": {},
   "outputs": [],
   "source": [
    "def show_employee(name,salary=9000):\n",
    "    return(name,salary)"
   ]
  },
  {
   "cell_type": "code",
   "execution_count": 12,
   "id": "ee8496dd",
   "metadata": {},
   "outputs": [
    {
     "data": {
      "text/plain": [
       "('Himanshu', 12000)"
      ]
     },
     "execution_count": 12,
     "metadata": {},
     "output_type": "execute_result"
    }
   ],
   "source": [
    "show_employee(\"Himanshu\",12000)"
   ]
  },
  {
   "cell_type": "code",
   "execution_count": 13,
   "id": "d6c93706",
   "metadata": {},
   "outputs": [
    {
     "data": {
      "text/plain": [
       "('Sam', 9000)"
      ]
     },
     "execution_count": 13,
     "metadata": {},
     "output_type": "execute_result"
    }
   ],
   "source": [
    "show_employee(\"Sam\")"
   ]
  },
  {
   "cell_type": "code",
   "execution_count": 14,
   "id": "f9186849",
   "metadata": {},
   "outputs": [],
   "source": [
    "# Exercise 5: Create an inner function to calculate the addition in the following way:\n",
    "# Create an outer function that will accept two parameters (a and b)\n",
    "# Create an inner function inside an outer function that will calculate the addition of a and b\n",
    "# At last, an outer function will add 5 into addition and return it"
   ]
  },
  {
   "cell_type": "code",
   "execution_count": 15,
   "id": "cc561b38",
   "metadata": {},
   "outputs": [
    {
     "data": {
      "text/plain": [
       "20"
      ]
     },
     "execution_count": 15,
     "metadata": {},
     "output_type": "execute_result"
    }
   ],
   "source": [
    "def addition(a,b):\n",
    "    return (a+b)+5\n",
    "addition(5,10) "
   ]
  },
  {
   "cell_type": "code",
   "execution_count": 16,
   "id": "4a56a880",
   "metadata": {},
   "outputs": [],
   "source": [
    "# Exercise 7: Assign a different name to function and call it through the new name"
   ]
  },
  {
   "cell_type": "code",
   "execution_count": 17,
   "id": "86ad0695",
   "metadata": {},
   "outputs": [],
   "source": [
    "def show_student(name,age):\n",
    "    return(name,age)"
   ]
  },
  {
   "cell_type": "code",
   "execution_count": 18,
   "id": "0cffc2f0",
   "metadata": {},
   "outputs": [],
   "source": [
    "display_student=show_student(\"Himanshu\",26)"
   ]
  },
  {
   "cell_type": "code",
   "execution_count": 19,
   "id": "8289d5ce",
   "metadata": {},
   "outputs": [
    {
     "data": {
      "text/plain": [
       "('Himanshu', 26)"
      ]
     },
     "execution_count": 19,
     "metadata": {},
     "output_type": "execute_result"
    }
   ],
   "source": [
    "display_student"
   ]
  },
  {
   "cell_type": "code",
   "execution_count": 20,
   "id": "cf831a0d",
   "metadata": {},
   "outputs": [],
   "source": [
    "# Exercise 8: Generate a Python list of all the even numbers between 4 to 30"
   ]
  },
  {
   "cell_type": "code",
   "execution_count": 21,
   "id": "b70aec39",
   "metadata": {},
   "outputs": [
    {
     "name": "stdout",
     "output_type": "stream",
     "text": [
      "[4, 6, 8, 10, 12, 14, 16, 18, 20, 22, 24, 26, 28]\n"
     ]
    }
   ],
   "source": [
    "print(list(range(4,30,2)))"
   ]
  },
  {
   "cell_type": "code",
   "execution_count": 22,
   "id": "adcd9e2d",
   "metadata": {},
   "outputs": [],
   "source": [
    "# Exercise 9: Find the largest item from a given list:\n",
    "# x = [4, 6, 8, 24, 12, 2]"
   ]
  },
  {
   "cell_type": "code",
   "execution_count": 23,
   "id": "38b77983",
   "metadata": {},
   "outputs": [
    {
     "name": "stdout",
     "output_type": "stream",
     "text": [
      "24\n"
     ]
    }
   ],
   "source": [
    "x = [4, 6, 8, 24, 12, 2]\n",
    "print(max(x))"
   ]
  },
  {
   "cell_type": "code",
   "execution_count": 24,
   "id": "f8c18f91",
   "metadata": {},
   "outputs": [],
   "source": [
    "# Exercise 6: Create a recursive function\n",
    "# Write a program to create a recursive function to calculate the sum of numbers from 0 to 10\n",
    "# Note: A recursive function is a function that calls itself, again and again"
   ]
  },
  {
   "cell_type": "code",
   "execution_count": 25,
   "id": "3bf6ebe5",
   "metadata": {},
   "outputs": [],
   "source": [
    "def additon(num):\n",
    "    if  num:\n",
    "        return addition + num (num-1)\n",
    "    else:\n",
    "        return 0"
   ]
  }
 ],
 "metadata": {
  "kernelspec": {
   "display_name": "Python 3 (ipykernel)",
   "language": "python",
   "name": "python3"
  },
  "language_info": {
   "codemirror_mode": {
    "name": "ipython",
    "version": 3
   },
   "file_extension": ".py",
   "mimetype": "text/x-python",
   "name": "python",
   "nbconvert_exporter": "python",
   "pygments_lexer": "ipython3",
   "version": "3.9.12"
  }
 },
 "nbformat": 4,
 "nbformat_minor": 5
}
