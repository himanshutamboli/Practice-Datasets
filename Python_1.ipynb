{
 "cells": [
  {
   "cell_type": "markdown",
   "metadata": {},
   "source": [
    "# Python overview\n",
    "\n",
    "It provides basic and advanced concepts of Python. This Python tutorial is designed for beginners and professionals.\n",
    "Python is a simple, high level-general purpose, and object-oriented programming language.\n",
    "Python is an interpreted scripting language also. **_[Guido van Rossum](https://en.wikipedia.org/wiki/Guido_van_Rossum)_** is known as the founder of **_Python programming_**."
   ]
  },
  {
   "cell_type": "markdown",
   "metadata": {},
   "source": [
    "# Python History\n",
    "\n",
    "- Python laid its foundation in the late 1980s.\n",
    "- The implementation of Python was started in December 1989 by Guido van Rossum at CWI in Netherland.\n",
    "- In February 1991, Guido van Rossum published the code (labeled version 0.9.0) to alt.sources.\n",
    "- In 1994, Python 1.0 was released with new features like lambda, map, filter, and reduce.\n",
    "- Python 2.0 added new features such as list comprehensions, garbage collection systems.\n",
    "- ABC programming language is said to be the predecessor of Python language, which was capable of Exception Handling and interfacing with the Amoeba Operating System.\n",
    "- ABC had a major influence on the design of the language Python, developed by Guido van Rossum, who formerly worked for several years on the ABC system in the mid-1980s.\n",
    "- The following programming languages influence Python:\n",
    "_ABC language_\n",
    "_Modula-3_"
   ]
  },
  {
   "cell_type": "markdown",
   "metadata": {},
   "source": [
    "# What is Python\n",
    "\n",
    "- Python is a general purpose, dynamic, high-level, and interpreted programming language. It supports Object Oriented programming approach to develop applications. It is simple and easy to learn and provides lots of high-level data structures.\n",
    "\n",
    "- Python is easy to learn yet powerful and versatile scripting language, which makes it attractive for Application Development.\n",
    "\n",
    "- Python's syntax and dynamic typing with its interpreted nature make it an ideal language for scripting and rapid application development.\n",
    "\n",
    "- Python supports multiple programming pattern, including object-oriented, imperative, and functional or procedural programming styles.\n",
    "\n",
    "- Python makes the development and debugging fast because there is no compilation step included in Python development, and edit-test-debug cycle is very fast."
   ]
  },
  {
   "cell_type": "markdown",
   "metadata": {},
   "source": [
    "# Python Features\n",
    "\n",
    "Python provides many useful features which make it popular and valuable from the other programming languages. It supports object-oriented programming, procedural programming approaches and provides dynamic memory allocation. We have listed below a few essential features.\n",
    "\n",
    "### Easy to Learn and Use\n",
    "Python is easy to learn as compared to other programming languages. Its syntax is straightforward and much the same as the English language. There is no use of the semicolon or curly-bracket, the indentation defines the code block. It is the recommended programming language for beginners.\n",
    "\n",
    "### Interpreted Language\n",
    "Python is an interpreted language; it means the Python program is executed one line at a time. The advantage of being interpreted language, it makes debugging easy and portable.\n",
    "\n",
    "### Cross-platform Language\n",
    "Python can run equally on different platforms such as Windows, Linux, UNIX, and Macintosh, etc. So, we can say that Python is a portable language. It enables programmers to develop the software for several competing platforms by writing a program only once.\n",
    "\n",
    "### Object-Oriented Language\n",
    "Python supports object-oriented language and concepts of classes and objects come into existence. It supports inheritance, polymorphism, and encapsulation, etc. The object-oriented procedure helps to programmer to write reusable code and develop applications in less code.\n",
    "\n",
    "### Large Standard Library\n",
    "It provides a vast range of libraries for the various fields such as machine learning, web developer, and also for the scripting. There are various machine learning libraries, such as Tensor flow, Pandas, Numpy, Keras, and Pytorch, etc. Django, flask, pyramids are the popular framework for Python web development.\n",
    "\n",
    "### Integrated\n",
    "It can be easily integrated with languages like C, C++, and JAVA, etc. Python runs code line by line like C,C++ Java. It makes easy to debug the code."
   ]
  },
  {
   "cell_type": "markdown",
   "metadata": {},
   "source": [
    "# Python Application\n",
    "\n",
    "### Web Applications\n",
    "We can use Python to develop web applications. It provides libraries to handle internet protocols such as HTML and XML, JSON, Email processing, request, beautifulSoup, Feedparser, etc. One of Python web-framework named Django is used on Instagram. Python provides many useful frameworks, and these are given below:\n",
    "\n",
    "Django and Pyramid framework(Use for heavy applications)\n",
    "Flask and Bottle (Micro-framework)\n",
    "Plone and Django CMS (Advance Content management)\n",
    "\n",
    "### Desktop GUI Applications\n",
    "The GUI stands for the Graphical User Interface, which provides a smooth interaction to any application. Python provides a Tk GUI library to develop a user interface. Some popular GUI libraries are given below.\n",
    "\n",
    "Tkinter or Tk\n",
    "wxWidgetM\n",
    "Kivy (used for writing multitouch applications )\n",
    "PyQt or Pyside\n",
    "\n",
    "### Software Development\n",
    "Python is useful for the software development process. It works as a support language and can be used to build control and management, testing, etc.\n",
    "\n",
    "SCons is used to build control.\n",
    "Buildbot and Apache Gumps are used for automated continuous compilation and testing.\n",
    "Round or Trac for bug tracking and project management.\n",
    "\n",
    "### Scientific and Numeric\n",
    "This is the era of Artificial intelligence where the machine can perform the task the same as the human. Python language is the most suitable language for Artificial intelligence or machine learning. It consists of many scientific and mathematical libraries, which makes easy to solve complex calculations.\n",
    "\n",
    "Implementing machine learning algorithms require complex mathematical calculation. Python has many libraries for scientific and numeric such as Numpy, Pandas, Scipy, Scikit-learn, etc. If you have some basic knowledge of Python, you need to import libraries on the top of the code. Few popular frameworks of machine libraries are given below.\n",
    "\n",
    "SciPy\n",
    "Scikit-learn\n",
    "NumPy\n",
    "Pandas\n",
    "Matplotlib\n",
    "\n",
    "### Business Applications\n",
    "Business Applications differ from standard applications. E-commerce and ERP are an example of a business application. This kind of application requires extensively, scalability and readability, and Python provides all these features.\n",
    "\n",
    "Oddo is an example of the all-in-one Python-based application which offers a range of business applications. Python provides a Tryton platform which is used to develop the business application.\n",
    "\n",
    "### Image Processing Application\n",
    "Python contains many libraries that are used to work with the image. The image can be manipulated according to our requirements. Some libraries of image processing are given below.\n",
    "\n",
    "OpenCV\n",
    "Pillow\n",
    "SimpleITK"
   ]
  },
  {
   "cell_type": "markdown",
   "metadata": {},
   "source": [
    "# Python Variables\n",
    "\n",
    "Variable is a name that is used to refer to memory location. Python variable is also known as an identifier and used to hold value.\n",
    "In Python, we don't need to specify the type of variable because Python is a infer language and smart enough to get variable type.\n",
    "Variable names can be a group of both the letters and digits, but they have to begin with a letter or an underscore.\n",
    "It is recommended to use lowercase letters for the variable name. Rahul and rahul both are two different variables."
   ]
  },
  {
   "cell_type": "markdown",
   "metadata": {},
   "source": [
    "# Identifier Naming\n",
    "\n",
    "\n",
    "Variables are the example of identifiers. An Identifier is used to identify the literals used in the program. The rules to name an identifier are given below.\n",
    "\n",
    "- The first character of the variable must be an alphabet or underscore ( _ ).\n",
    "\n",
    "\n",
    "- All the characters except the first character may be an alphabet of \n",
    "    - lower-case(a-z),\n",
    "    - upper-case (A-Z), \n",
    "    - underscore, or \n",
    "    - digit (0-9).\n",
    "\n",
    "\n",
    "- Identifier name must not contain any white-space, or special character (!, @, #, %, ^, &, *).\n",
    "\n",
    "\n",
    "- Identifier name must not be similar to any keyword defined in the language.\n",
    "\n",
    "\n",
    "- Identifier names are case sensitive; for example, my name, and MyName is not the same.\n",
    "\n",
    "\n",
    "- Examples of valid identifiers: a123, _n, n_9, etc.\n",
    "\n",
    "\n",
    "- Examples of invalid identifiers: 1a, n%4, n 9, etc."
   ]
  },
  {
   "cell_type": "markdown",
   "metadata": {},
   "source": [
    "# Declaring Variable and Assigning Values\n",
    "\n",
    "Python does not bind us to declare a variable before using it in the application. It allows us to create a variable at the required time.\n",
    "We don't need to declare explicitly variable in Python. When we assign any value to the variable, that variable is declared automatically.\n",
    "The equal (=) operator is used to assign value to a variable."
   ]
  },
  {
   "cell_type": "code",
   "execution_count": 1,
   "metadata": {},
   "outputs": [],
   "source": [
    "# declaring a variable.\n",
    "a = 1\n",
    "b = \"string\"\n",
    "c = 1.1"
   ]
  },
  {
   "cell_type": "code",
   "execution_count": 2,
   "metadata": {},
   "outputs": [
    {
     "name": "stdout",
     "output_type": "stream",
     "text": [
      "1\n",
      "string\n",
      "1.1\n"
     ]
    }
   ],
   "source": [
    "print(a)\n",
    "print(b)\n",
    "print(c)"
   ]
  },
  {
   "cell_type": "markdown",
   "metadata": {},
   "source": [
    "### Object References\n",
    "It is necessary to understand how the Python interpreter works when we declare a variable. The process of treating variables is somewhat different from many other programming languages.\n",
    "\n",
    "Python is the highly object-oriented programming language; that's why every data item belongs to a specific type of class.\n",
    "Consider the following example."
   ]
  },
  {
   "cell_type": "code",
   "execution_count": 3,
   "metadata": {},
   "outputs": [
    {
     "name": "stdout",
     "output_type": "stream",
     "text": [
      "Himanshu\n"
     ]
    }
   ],
   "source": [
    "print(\"Himanshu\")"
   ]
  },
  {
   "cell_type": "code",
   "execution_count": 4,
   "metadata": {},
   "outputs": [
    {
     "data": {
      "text/plain": [
       "str"
      ]
     },
     "execution_count": 4,
     "metadata": {},
     "output_type": "execute_result"
    }
   ],
   "source": [
    "type(\"Himanshu\")"
   ]
  },
  {
   "cell_type": "markdown",
   "metadata": {},
   "source": [
    "In Python, variables are a symbolic name that is a reference or pointer to an object. The variables are used to denote objects by that name.\n",
    "\n",
    "Let's understand the following example"
   ]
  },
  {
   "cell_type": "code",
   "execution_count": 5,
   "metadata": {},
   "outputs": [],
   "source": [
    "a = 50"
   ]
  },
  {
   "cell_type": "code",
   "execution_count": 6,
   "metadata": {},
   "outputs": [],
   "source": [
    "# Suppose we assign the integer value 50 to a new variable b.\n",
    "b = 50"
   ]
  },
  {
   "cell_type": "markdown",
   "metadata": {},
   "source": [
    "### The variable b refers to the same object that a points to because Python does not create another object."
   ]
  },
  {
   "cell_type": "markdown",
   "metadata": {},
   "source": [
    "# Object Identity\n",
    "\n",
    "In Python, every created object identifies uniquely in Python. Python provides the guaranteed that no two objects will have the same identifier. The built-in id() function, is used to identify the object identifier.\n",
    "\n",
    "#### Consider the following example."
   ]
  },
  {
   "cell_type": "code",
   "execution_count": 7,
   "metadata": {},
   "outputs": [
    {
     "name": "stdout",
     "output_type": "stream",
     "text": [
      "2791662710608\n",
      "2791662710608\n"
     ]
    }
   ],
   "source": [
    "a = 50\n",
    "b = a\n",
    "print(id(a))\n",
    "print(id(b))"
   ]
  },
  {
   "cell_type": "code",
   "execution_count": 8,
   "metadata": {},
   "outputs": [
    {
     "name": "stdout",
     "output_type": "stream",
     "text": [
      "2789614998640\n"
     ]
    }
   ],
   "source": [
    "# Reassigned variable a\n",
    "a = 500\n",
    "print(id(a))"
   ]
  },
  {
   "cell_type": "markdown",
   "metadata": {},
   "source": [
    "# Variable Names\n",
    "- Variable names can be any length can have \n",
    "    - uppercase, \n",
    "    - lowercase (A to Z, a to z), \n",
    "    - the digit (0-9), and \n",
    "    - underscore character(_).\n",
    "    \n",
    "- Consider the following example of valid variables names."
   ]
  },
  {
   "cell_type": "code",
   "execution_count": 9,
   "metadata": {},
   "outputs": [
    {
     "name": "stdout",
     "output_type": "stream",
     "text": [
      "Himanshu\n",
      "26\n",
      "80.5\n"
     ]
    }
   ],
   "source": [
    "name=\"Himanshu\"\n",
    "age=26\n",
    "marks=80.50\n",
    "  \n",
    "print(name)  \n",
    "print(age)  \n",
    "print(marks)  "
   ]
  },
  {
   "cell_type": "markdown",
   "metadata": {},
   "source": [
    "### Declaring Variables\n",
    "- The variable name should be descriptive to make code more readable.\n",
    "\n",
    "- The multi-word keywords can be created by the following method.\n",
    "\n",
    "    - Camel Case - In the camel case, each word or abbreviation in the middle of begins with a capital letter. There is no intervention of whitespace. For example - nameOfStudent, valueOfVaraible, etc.\n",
    "    - Pascal Case - It is the same as the Camel Case, but here the first word is also capital. For example - NameOfStudent, etc.\n",
    "    - Snake Case - In the snake case, Words are separated by the underscore. For example - name_of_student, etc."
   ]
  },
  {
   "cell_type": "markdown",
   "metadata": {},
   "source": [
    "# Multiple Assignment\n",
    "Python allows us to assign a value to multiple variables in a single statement, which is also known as multiple assignments.\n",
    "We can apply multiple assignments in two ways, either by assigning a single value to multiple variables or assigning multiple values to multiple variables. \n",
    "\n",
    "#### Consider the following example."
   ]
  },
  {
   "cell_type": "code",
   "execution_count": 10,
   "metadata": {},
   "outputs": [
    {
     "name": "stdout",
     "output_type": "stream",
     "text": [
      "50\n",
      "50\n",
      "50\n"
     ]
    }
   ],
   "source": [
    "# Assigning single value to multiple variables:\n",
    "\n",
    "x=y=z=50\n",
    "print(x)    \n",
    "print(y)    \n",
    "print(z)   "
   ]
  },
  {
   "cell_type": "code",
   "execution_count": 11,
   "metadata": {},
   "outputs": [
    {
     "name": "stdout",
     "output_type": "stream",
     "text": [
      "5\n",
      "10\n",
      "15\n"
     ]
    }
   ],
   "source": [
    "# Assigning multiple values to multiple variables:\n",
    "\n",
    "a,b,c=5,10,15\n",
    "print(a)    \n",
    "print(b)    \n",
    "print(c)    "
   ]
  },
  {
   "cell_type": "markdown",
   "metadata": {},
   "source": [
    "# Python Data Types\n",
    "Variables can hold values, and every value has a data-type. Python is a dynamically typed language; hence we do not need to define the type of the variable while declaring it. The interpreter implicitly binds the value with its type."
   ]
  },
  {
   "cell_type": "code",
   "execution_count": 12,
   "metadata": {},
   "outputs": [],
   "source": [
    "a=5"
   ]
  },
  {
   "cell_type": "markdown",
   "metadata": {},
   "source": [
    "The variable a holds integer value five and we did not define its type. Python interpreter will automatically interpret variables a as an integer type.\n",
    "\n",
    "Python enables us to check the type of the variable used in the program. Python provides us the type() function, which returns the type of the variable passed.\n",
    "\n",
    "Consider the following example to define the values of different data types and checking its type."
   ]
  },
  {
   "cell_type": "code",
   "execution_count": 13,
   "metadata": {},
   "outputs": [
    {
     "name": "stdout",
     "output_type": "stream",
     "text": [
      "<class 'int'>\n",
      "<class 'str'>\n",
      "<class 'float'>\n"
     ]
    }
   ],
   "source": [
    "a=10  \n",
    "b=\"Practicing Python\"  \n",
    "c=10.5  \n",
    "print(type(a))  \n",
    "print(type(b))  \n",
    "print(type(c))  "
   ]
  },
  {
   "cell_type": "markdown",
   "metadata": {},
   "source": [
    "# Standard data types\n",
    "\n",
    "A variable can hold different types of values. For example, a person's name must be stored as a string whereas its id must be stored as an integer.Python provides various standard data types that define the storage method on each of them.\n",
    "\n",
    "The data types defined in Python are given below.\n",
    "\n",
    "- Numbers\n",
    "- Sequence Type\n",
    "- Boolean\n",
    "- Set\n",
    "- Dictionary"
   ]
  },
  {
   "cell_type": "markdown",
   "metadata": {},
   "source": [
    "### Numbers\n",
    "Number stores numeric values. The integer, float, and complex values belong to a Python Numbers data-type. Python provides the type() function to know the data-type of the variable. Similarly, the isinstance() function is used to check an object belongs to a particular class.\n",
    "\n",
    "##### Python supports three types of numeric data.\n",
    "\n",
    "- Int: Integer value can be any length such as integers 10, 2, 29, -20, -150 etc. Python has no restriction on the length of an integer. Its value belongs to int\n",
    "- Float: Float is used to store floating-point numbers like 1.9, 9.902, 15.2, etc. It is accurate upto 15 decimal points.\n",
    "- Complex: A complex number contains an ordered pair, i.e., x + iy where x and y denote the real and imaginary parts, respectively. The complex numbers like 2.14j, 2.0 + 2.3j, etc.\n",
    "\n",
    "#### Python creates Number objects when a number is assigned to a variable. For example:"
   ]
  },
  {
   "cell_type": "code",
   "execution_count": 14,
   "metadata": {},
   "outputs": [
    {
     "name": "stdout",
     "output_type": "stream",
     "text": [
      "The type of a <class 'int'>\n",
      "The type of b <class 'float'>\n",
      "The type of c <class 'complex'>\n",
      "c is a complex number True\n"
     ]
    }
   ],
   "source": [
    "a=5\n",
    "print(\"The type of a\", type(a))\n",
    "b=40.5\n",
    "print(\"The type of b\", type(b))\n",
    "c=1+3j\n",
    "print(\"The type of c\", type(c))\n",
    "print(\"c is a complex number\", isinstance(1+3j,complex))"
   ]
  },
  {
   "cell_type": "markdown",
   "metadata": {},
   "source": [
    "# Sequence Type"
   ]
  },
  {
   "cell_type": "markdown",
   "metadata": {},
   "source": [
    "### String\n",
    "\n",
    "- The string can be defined as the sequence of characters represented in the quotation marks. In Python, we can use single, double, or triple quotes to define a string.\n",
    "\n",
    "- String handling in Python is a straightforward task since Python provides built-in functions and operators to perform operations in the string.\n",
    "\n",
    "- In the case of string handling, the operator + is used to concatenate two strings as the operation \"hello\"+\" python\" returns \"hello python\".\n",
    "\n",
    "- The operator * is known as a repetition operator as the operation \"Python\"*2 returns 'Python Python'."
   ]
  },
  {
   "cell_type": "code",
   "execution_count": 15,
   "metadata": {
    "scrolled": true
   },
   "outputs": [
    {
     "name": "stdout",
     "output_type": "stream",
     "text": [
      "String using double quotes\n",
      "A multiline string\n"
     ]
    }
   ],
   "source": [
    "# The following example illustrates the string in Python.\n",
    "\n",
    "str=\"String using double quotes\"\n",
    "print(str)\n",
    "s='''A multiline string'''\n",
    "print(s)  "
   ]
  },
  {
   "cell_type": "code",
   "execution_count": 16,
   "metadata": {},
   "outputs": [
    {
     "name": "stdout",
     "output_type": "stream",
     "text": [
      "Hell\n",
      "o\n",
      "Hello Python learnersHello Python learners\n",
      "Hello Python learnersHow are you?\n"
     ]
    }
   ],
   "source": [
    "str1='Hello Python learners' # string str1\n",
    "str2='How are you?' # string str2\n",
    "print (str1[0:4]) # printing first four character using Slice operator\n",
    "print (str1[4]) # printing 4th character of the string\n",
    "print (str1 * 2) # printing the string twice\n",
    "print (str1 + str2) #printing the concatenation of str1 and str2"
   ]
  },
  {
   "cell_type": "markdown",
   "metadata": {},
   "source": [
    "### List\n",
    "- Python Lists are similar to arrays in C. However, the list can contain data of different types. The items stored in the list are separated with a comma (,) and enclosed within square brackets [].\n",
    "\n",
    "- We can use slice [:] operators to access the data of the list. The concatenation operator (+) and repetition operator (*) works with the list in the same way as they were working with the strings.\n",
    "\n",
    "Consider the following example."
   ]
  },
  {
   "cell_type": "code",
   "execution_count": 17,
   "metadata": {},
   "outputs": [
    {
     "name": "stdout",
     "output_type": "stream",
     "text": [
      "<class 'list'>\n",
      "[1, 'hi', 'Python', 2]\n",
      "[2]\n",
      "[1, 'hi']\n",
      "[1, 'hi', 'Python', 2, 1, 'hi', 'Python', 2]\n",
      "[1, 'hi', 'Python', 2, 1, 'hi', 'Python', 2, 1, 'hi', 'Python', 2]\n"
     ]
    }
   ],
   "source": [
    "list1=[1, \"hi\", \"Python\", 2]\n",
    "\n",
    "# Checking type of given list\n",
    "print(type(list1))\n",
    "\n",
    "# Printing the list1\n",
    "print (list1)\n",
    "\n",
    "# List slicing\n",
    "print (list1[3:])\n",
    "\n",
    "# List slicing\n",
    "print (list1[0:2])\n",
    "\n",
    "# List Concatenation using + operator\n",
    "print (list1 + list1)\n",
    "\n",
    "# List repetation using * operator\n",
    "print (list1 * 3)"
   ]
  },
  {
   "cell_type": "markdown",
   "metadata": {},
   "source": [
    "### Tuple\n",
    "\n",
    "- A tuple is similar to the list in many ways. Like lists, tuples also contain the collection of the items of different data types. The items of the tuple are separated with a comma (,) and enclosed in parentheses ().\n",
    "\n",
    "- tuple is a read-only data structure as we can't modify the size and value of the items of a tuple.\n",
    "\n",
    "Let's see a simple example of the tuple."
   ]
  },
  {
   "cell_type": "code",
   "execution_count": 18,
   "metadata": {},
   "outputs": [
    {
     "name": "stdout",
     "output_type": "stream",
     "text": [
      "<class 'tuple'>\n",
      "('hi', 'Python', 2)\n",
      "('Python', 2)\n",
      "('hi',)\n",
      "('hi', 'Python', 2, 'hi', 'Python', 2)\n",
      "('hi', 'Python', 2, 'hi', 'Python', 2, 'hi', 'Python', 2)\n"
     ]
    },
    {
     "ename": "TypeError",
     "evalue": "'tuple' object does not support item assignment",
     "output_type": "error",
     "traceback": [
      "\u001b[1;31m---------------------------------------------------------------------------\u001b[0m",
      "\u001b[1;31mTypeError\u001b[0m                                 Traceback (most recent call last)",
      "Input \u001b[1;32mIn [18]\u001b[0m, in \u001b[0;36m<cell line: 19>\u001b[1;34m()\u001b[0m\n\u001b[0;32m     16\u001b[0m \u001b[38;5;28mprint\u001b[39m (tup \u001b[38;5;241m*\u001b[39m \u001b[38;5;241m3\u001b[39m)     \n\u001b[0;32m     18\u001b[0m \u001b[38;5;66;03m# Adding value to tup. It will throw an error.  \u001b[39;00m\n\u001b[1;32m---> 19\u001b[0m tup[\u001b[38;5;241m2\u001b[39m] \u001b[38;5;241m=\u001b[39m \u001b[38;5;124m\"\u001b[39m\u001b[38;5;124mhi\u001b[39m\u001b[38;5;124m\"\u001b[39m\n",
      "\u001b[1;31mTypeError\u001b[0m: 'tuple' object does not support item assignment"
     ]
    }
   ],
   "source": [
    "tup=(\"hi\", \"Python\", 2)\n",
    "# Checking type of tup\n",
    "print (type(tup))\n",
    "\n",
    "# Printing the tuple\n",
    "print (tup)\n",
    "\n",
    "# Tuple slicing\n",
    "print (tup[1:])\n",
    "print (tup[0:1])\n",
    "  \n",
    "# Tuple concatenation using + operator  \n",
    "print (tup + tup)    \n",
    "  \n",
    "# Tuple repatation using * operator  \n",
    "print (tup * 3)     \n",
    "  \n",
    "# Adding value to tup. It will throw an error.  \n",
    "tup[2] = \"hi\"  "
   ]
  },
  {
   "cell_type": "markdown",
   "metadata": {},
   "source": [
    "### Dictionary\n",
    "\n",
    "- Dictionary is an unordered set of a key-value pair of items. It is like an associative array or a hash table where each key stores a specific value. Key can hold any primitive data type, whereas value is an arbitrary Python object.\n",
    "\n",
    "- The items in the dictionary are separated with the comma (,) and enclosed in the curly braces {}.\n",
    "\n",
    "- Dictionary is an unordered set of a key-value pair of items. It is like an associative array or a hash table where each key stores a specific value. Key can hold any primitive data type, whereas value is an arbitrary Python object.\n",
    "\n",
    "- The items in the dictionary are separated with the comma (,) and enclosed in the curly braces {}.\n",
    "\n",
    "Consider the following example."
   ]
  },
  {
   "cell_type": "code",
   "execution_count": 19,
   "metadata": {},
   "outputs": [
    {
     "name": "stdout",
     "output_type": "stream",
     "text": [
      "{1: 'HST', 2: 'Himanshu', 3: 'Suresh', 4: 'Tamboli'}\n",
      "1st name is HST\n",
      "2nd name is Himanshu\n",
      "3rd name is Suresh\n",
      "4th name is Tamboli\n",
      "dict_keys([1, 2, 3, 4])\n",
      "dict_values(['HST', 'Himanshu', 'Suresh', 'Tamboli'])\n"
     ]
    }
   ],
   "source": [
    "d={1:'HST', 2:'Himanshu', 3:'Suresh', 4:'Tamboli'}\n",
    "  \n",
    "# Printing dictionary\n",
    "print (d)\n",
    "\n",
    "# Accesing value using keys\n",
    "print(\"1st name is \"+d[1])\n",
    "print(\"2nd name is \"+d[2])\n",
    "print(\"3rd name is \"+d[3])\n",
    "print(\"4th name is \"+d[4])\n",
    "print (d.keys())\n",
    "print (d.values())"
   ]
  },
  {
   "cell_type": "markdown",
   "metadata": {},
   "source": [
    "### Boolean\n",
    "\n",
    "- Boolean type provides two built-in values, **_True_** and **_False_**. These values are used to determine the given statement true or false. It denotes by the class **_bool_**.\n",
    "- True can be represented by any non-zero value or 'T' whereas false can be represented by the 0 or 'F'. \n",
    "\n",
    "Consider the following example."
   ]
  },
  {
   "cell_type": "code",
   "execution_count": 20,
   "metadata": {},
   "outputs": [
    {
     "name": "stdout",
     "output_type": "stream",
     "text": [
      "<class 'bool'>\n",
      "<class 'bool'>\n",
      "False\n"
     ]
    }
   ],
   "source": [
    "# Python program to check the Boolean type:\n",
    "print(type(True))\n",
    "print(type(False))\n",
    "print(False)"
   ]
  },
  {
   "cell_type": "markdown",
   "metadata": {},
   "source": [
    "### Set\n",
    "\n",
    "- Python Set is the unordered collection of the data type. It is iterable, mutable(can modify after creation), and has unique elements.\n",
    "- In set, the order of the elements is undefined; it may return the changed sequence of the element.\n",
    "- The set is created by using a built-in function set(), or a sequence of elements is passed in the curly braces and separated by the comma. It can contain various types of values. \n",
    "\n",
    "Consider the following example."
   ]
  },
  {
   "cell_type": "code",
   "execution_count": 21,
   "metadata": {},
   "outputs": [
    {
     "name": "stdout",
     "output_type": "stream",
     "text": [
      "{'Himanshu', 2, 3, 'Python'}\n",
      "{'Himanshu', 2, 3, 'Python', 10}\n",
      "{'Himanshu', 3, 'Python', 10}\n"
     ]
    }
   ],
   "source": [
    "# Creating Empty set\n",
    "set1=set()\n",
    "\n",
    "set2={'Himanshu', 2, 3,'Python'}\n",
    "\n",
    "# Printing Set value\n",
    "print(set2)\n",
    "\n",
    "# Adding element to the set\n",
    "\n",
    "set2.add(10)\n",
    "print(set2)\n",
    "\n",
    "# Removing element from the set\n",
    "set2.remove(2)\n",
    "print(set2)"
   ]
  },
  {
   "cell_type": "markdown",
   "metadata": {},
   "source": [
    "# Python Literals\n",
    "\n",
    "- Python Literals can be defined as data that is given in a variable or constant.\n",
    "\n",
    "- Python supports the following literals:\n",
    "\n",
    "### 1. String literals:\n",
    "\n",
    "String literals can be formed by enclosing a text in the quotes. We can use both single as well as double quotes to create a string.\n",
    "\n",
    "Example:"
   ]
  },
  {
   "cell_type": "code",
   "execution_count": 22,
   "metadata": {},
   "outputs": [
    {
     "data": {
      "text/plain": [
       "('Himanshu', '12345')"
      ]
     },
     "execution_count": 22,
     "metadata": {},
     "output_type": "execute_result"
    }
   ],
   "source": [
    "\"Himanshu\", '12345'"
   ]
  },
  {
   "cell_type": "markdown",
   "metadata": {},
   "source": [
    "#### Types of Strings:\n",
    "\n",
    "- There are two types of Strings supported in Python:\n",
    "\n",
    "#### Single-line String:\n",
    "\n",
    "- Strings that are terminated within a single-line are known as Single line Strings.\n",
    "\n",
    "Example:"
   ]
  },
  {
   "cell_type": "code",
   "execution_count": 23,
   "metadata": {},
   "outputs": [
    {
     "name": "stdout",
     "output_type": "stream",
     "text": [
      "Hello\n"
     ]
    }
   ],
   "source": [
    "text1='Hello'\n",
    "print(text1)"
   ]
  },
  {
   "cell_type": "markdown",
   "metadata": {},
   "source": [
    "#### Multi-line String:\n",
    "\n",
    "A piece of text that is written in multiple lines is known as multiple lines string.\n",
    "\n",
    "- Using triple quotation marks:\n",
    "\n",
    "Example:"
   ]
  },
  {
   "cell_type": "code",
   "execution_count": 24,
   "metadata": {},
   "outputs": [
    {
     "name": "stdout",
     "output_type": "stream",
     "text": [
      "Welcome\n",
      "to\n",
      "Python\n"
     ]
    }
   ],
   "source": [
    "str2='''Welcome\n",
    "to\n",
    "Python'''\n",
    "print(str2)"
   ]
  },
  {
   "cell_type": "markdown",
   "metadata": {},
   "source": [
    "### 2. Numeric literals:\n",
    "\n",
    "Numeric Literals are immutable. Numeric literals can belong to following different numerical types.\n",
    "\n",
    "- <b>Int(signed integers) :</b>\n",
    "Numbers( can be both positive and negative) with no fractional part.eg: 100\n",
    "\n",
    "- <b>float(floating point) :</b>\n",
    "Real numbers with both integer and fractional part eg: -26.2\n",
    "\n",
    "- <b> Complex(complex) :</b>\n",
    "In the form of a+bj where a forms the real part and b forms the imaginary part of the complex number. eg: 3.14j\n",
    "- Example - Numeric Literals"
   ]
  },
  {
   "cell_type": "code",
   "execution_count": 25,
   "metadata": {},
   "outputs": [
    {
     "name": "stdout",
     "output_type": "stream",
     "text": [
      "20 100 141 301\n",
      "100.5 150.0\n",
      "(5+3.14j) 3.14 5.0\n"
     ]
    }
   ],
   "source": [
    "x=0b10100 # Binary Literals\n",
    "y=100 # Decimal Literal\n",
    "z=0o215 # Octal Literal\n",
    "u=0x12d # Hexadecimal Literal\n",
    "\n",
    "# Float Literal\n",
    "float_1 = 100.5\n",
    "float_2 = 1.5e2\n",
    "\n",
    "# Complex Literal\n",
    "a = 5+3.14j\n",
    "\n",
    "print(x, y, z, u)\n",
    "print(float_1, float_2)\n",
    "print(a, a.imag, a.real)"
   ]
  },
  {
   "cell_type": "markdown",
   "metadata": {},
   "source": [
    "### 3. Boolean literals:\n",
    "\n",
    "A Boolean literal can have any of the two values: **_True_** or **_False_**.\n",
    "- Example - Boolean Literals"
   ]
  },
  {
   "cell_type": "code",
   "execution_count": 26,
   "metadata": {},
   "outputs": [
    {
     "name": "stdout",
     "output_type": "stream",
     "text": [
      "x is True\n",
      "y is False\n",
      "z is False\n",
      "a: 11\n",
      "b: 10\n"
     ]
    }
   ],
   "source": [
    "x=(1 == True)\n",
    "y=(2 == False)\n",
    "z=(3 == True)\n",
    "a=True + 10\n",
    "b=False + 10\n",
    "\n",
    "print(\"x is\", x)\n",
    "print(\"y is\", y)\n",
    "print(\"z is\", z)\n",
    "print(\"a:\", a)\n",
    "print(\"b:\", b)"
   ]
  },
  {
   "cell_type": "markdown",
   "metadata": {},
   "source": [
    "### 4. Special literals:\n",
    "\n",
    "Python contains one special literal i.e., None.\n",
    "\n",
    "None is used to specify to that field that is not created. It is also used for the end of lists in Python.\n",
    "\n",
    "- Example - Special Literals"
   ]
  },
  {
   "cell_type": "code",
   "execution_count": 27,
   "metadata": {},
   "outputs": [
    {
     "name": "stdout",
     "output_type": "stream",
     "text": [
      "10\n",
      "None\n"
     ]
    }
   ],
   "source": [
    "val1=10\n",
    "val2=None\n",
    "print(val1)\n",
    "print(val2)"
   ]
  },
  {
   "cell_type": "markdown",
   "metadata": {},
   "source": [
    "### 5. Literal Collections:\n",
    "\n",
    "- Python provides the four types of literal collection such as List literals, Tuple literals, Dict literals, and Set literals."
   ]
  },
  {
   "cell_type": "markdown",
   "metadata": {},
   "source": [
    "##### List:\n",
    "\n",
    "- List contains items of different data types. Lists are mutable i.e., modifiable.\n",
    "- The values stored in List are separated by comma(,) and enclosed within square brackets([]). We can store different types of data in a List.\n",
    "- Example - List literals "
   ]
  },
  {
   "cell_type": "code",
   "execution_count": 28,
   "metadata": {},
   "outputs": [
    {
     "name": "stdout",
     "output_type": "stream",
     "text": [
      "['John', 678, 20.4, 'Doe']\n",
      "['John', 678, 20.4, 'Doe', 456, 'Jane']\n"
     ]
    }
   ],
   "source": [
    "list=['John',678,20.4,'Doe']\n",
    "list1=[456,'Jane']\n",
    "print(list)\n",
    "print(list + list1)"
   ]
  },
  {
   "cell_type": "markdown",
   "metadata": {},
   "source": [
    "##### Dictionary:\n",
    "\n",
    "- Python dictionary stores the data in the key-value pair.\n",
    "- It is enclosed by curly-braces {} and each pair is separated by the commas(,).\n",
    "- Example:"
   ]
  },
  {
   "cell_type": "code",
   "execution_count": 29,
   "metadata": {},
   "outputs": [
    {
     "name": "stdout",
     "output_type": "stream",
     "text": [
      "{'Name': 'Himanshu', 'Age': 26, 'Roll #': 101}\n"
     ]
    }
   ],
   "source": [
    "dict={'Name': 'Himanshu', 'Age':26,'Roll #':101}\n",
    "print(dict)"
   ]
  },
  {
   "cell_type": "markdown",
   "metadata": {},
   "source": [
    "##### Tuple:\n",
    "\n",
    "- Python tuple is a collection of different data-type. It is immutable which means it cannot be modified after creation.\n",
    "- It is enclosed by the parentheses () and each element is separated by the comma(,).\n",
    "- Example:"
   ]
  },
  {
   "cell_type": "code",
   "execution_count": 30,
   "metadata": {},
   "outputs": [
    {
     "name": "stdout",
     "output_type": "stream",
     "text": [
      "(10, 20, 'Dev', [2, 3, 4])\n"
     ]
    }
   ],
   "source": [
    "tuple= (10,20,\"Dev\",[2,3,4])\n",
    "print(tuple)"
   ]
  },
  {
   "cell_type": "markdown",
   "metadata": {},
   "source": [
    "##### Set:\n",
    "\n",
    "- Python set is the collection of the unordered dataset.\n",
    "- It is enclosed by the {} and each element is separated by the comma(,).\n",
    "- Example: - Set Literals"
   ]
  },
  {
   "cell_type": "code",
   "execution_count": 31,
   "metadata": {},
   "outputs": [
    {
     "name": "stdout",
     "output_type": "stream",
     "text": [
      "{'grapes', 'guava', 'apple', 'papaya'}\n"
     ]
    }
   ],
   "source": [
    "set = {'apple','grapes','guava','papaya'}  \n",
    "print(set)"
   ]
  },
  {
   "cell_type": "markdown",
   "metadata": {},
   "source": [
    "### Python Operators:\n",
    "\n",
    "The operator can be defined as a symbol which is responsible for a particular operation between two operands. Operators are the pillars of a program on which the logic is built in a specific programming language. Python provides a variety of operators, which are described as follows.\n",
    "\n",
    "- Arithmetic Operators\n",
    "- Comparison Operators\n",
    "- Assignment Operators\n",
    "- Logical Operators\n",
    "- Bitwise Operators\n",
    "- Membership Operators\n",
    "- Identity Operators"
   ]
  },
  {
   "cell_type": "markdown",
   "metadata": {},
   "source": [
    "#### Arithmetic Operators:\n",
    "\n",
    "Arithmetic operators are used to perform arithmetic operations between two operands. It includes:\n",
    "- (+) (addition), \n",
    "- (-) (subtraction), \n",
    "- (*) (multiplication), \n",
    "- (/) (divide), %(reminder), \n",
    "- (//) (floor division), and\n",
    "- (**) exponent operators.\n",
    "\n",
    "Consider the following for a detailed explanation of arithmetic operators."
   ]
  },
  {
   "cell_type": "raw",
   "metadata": {},
   "source": [
    " Operator\n",
    "+ (Addition)        \tIt is used to add two operands. \n",
    "                        For example,\n",
    "                        if a = 20,\n",
    "                        b = 10 \n",
    "                        a+b = 30\n",
    "\n",
    "\n",
    "-(Subtraction)      \tIt is used to subtract the second operand from the first operand.\n",
    "                        If the first operand is less than the second operand, \n",
    "                        the value results negative.\n",
    "                        For example,\n",
    "                        if a = 20,\n",
    "                        b = 10\n",
    "                        a - b = 10\n",
    "\n",
    "\n",
    "/ (divide)\t            It returns the quotient after dividing the first operand by the\n",
    "                        second operand.\n",
    "                        For example,\n",
    "                        if a = 20,\n",
    "                        b = 10 \n",
    "                        a/b = 2.0\n",
    "\n",
    "\n",
    "* (Multiplication)  \tIt is used to multiply one operand with the other.\n",
    "                        For example, \n",
    "                        if a = 20, \n",
    "                        b = 10\n",
    "                        a * b = 200\n",
    "\n",
    "\n",
    "% (reminder)\t        It returns the reminder after dividing the first operand by\n",
    "                        the second operand. \n",
    "                        For example,\n",
    "                        if a = 20, \n",
    "                        b = 10\n",
    "                        a%b = 0\n",
    "\n",
    "\n",
    "** (Exponent)\t        It is an exponent operator represented as it calculates the \n",
    "                        first operand power to the second operand.\n",
    "\n",
    "\n",
    "// (Floor division)\t    It gives the floor value of the quotient produced by dividing the two operands."
   ]
  },
  {
   "cell_type": "markdown",
   "metadata": {},
   "source": [
    "#### Comparison Operators:\n",
    "\n",
    "Comparison operators are used to comparing the value of the two operands and returns Boolean true or false accordingly. The comparison operators are described in following."
   ]
  },
  {
   "cell_type": "raw",
   "metadata": {},
   "source": [
    "Operator                    \tDescription\n",
    "==\t              If the value of two operands is equal, then the condition becomes true.\n",
    "\n",
    "!=\t              If the value of two operands is not equal, then the condition becomes true.\n",
    "\n",
    "<=\t              If the first operand is less than or equal to the second operand, then the condition becomes true.\n",
    "\n",
    ">=\t              If the first operand is greater than or equal to the second operand, then the condition becomes true.\n",
    "\n",
    ">\t              If the first operand is greater than the second operand, then the condition becomes true.\n",
    "\n",
    "<\t              If the first operand is less than the second operand, then the condition becomes true."
   ]
  },
  {
   "cell_type": "markdown",
   "metadata": {},
   "source": [
    "#### Assignment Operators:\n",
    "\n",
    "The assignment operators are used to assign the value of the right expression to the left operand. The assignment operators are described in the following table."
   ]
  },
  {
   "cell_type": "raw",
   "metadata": {},
   "source": [
    "Operator                           Description\n",
    "=\t              It assigns the value of the right expression to the left operand.\n",
    "+=\t              It increases the value of the left operand by the value of the right\n",
    "                  operand and assigns the modified value back to left operand. \n",
    "                  For example, \n",
    "                  if a = 10, \n",
    "                  b = 20\n",
    "                  a+ = b will be equal to a = a+ b and \n",
    "                  therefore, a = 30.\n",
    "                  \n",
    "-=                It decreases the value of the left operand by the value of the right \n",
    "                  operand and assigns the modified value back to left operand. \n",
    "                  For example, \n",
    "                  if a = 20, \n",
    "                  b = 10\n",
    "                  a- = b will be equal to a = a- b and \n",
    "                  therefore, a = 10.\n",
    "                  \n",
    "*=\t              It multiplies the value of the left operand by the value of the right\n",
    "                  operand and assigns the modified value back to then the left operand.\n",
    "                  For example, \n",
    "                  if a = 10, \n",
    "                  b = 20 \n",
    "                  a* = b will be equal to a = a* b and \n",
    "                  therefore, a = 200.\n",
    "                  \n",
    "%=             \t  It divides the value of the left operand by the value of the right\n",
    "                  operand and assigns the reminder back to the left operand. \n",
    "                  For example, \n",
    "                  if a = 20,\n",
    "                  b = 10 \n",
    "                  a % = b will be equal to a = a % b and \n",
    "                  therefore, a = 0.\n",
    "                  \n",
    "**=\t              a**=b will be equal to a=a**b, \n",
    "                  for example, \n",
    "                  if a = 4,\n",
    "                  b =2,\n",
    "                  a**=b will assign 4**2 = 16 to a.\n",
    "                  \n",
    "//=\t              A//=b will be equal to a = a// b,\n",
    "                  for example,\n",
    "                  if a = 4, \n",
    "                  b = 3, \n",
    "                  a//=b will assign 4//3 = 1 to a."
   ]
  },
  {
   "cell_type": "markdown",
   "metadata": {},
   "source": [
    "#### Bitwise Operators:\n",
    "\n",
    "The bitwise operators perform bit by bit operation on the values of the two operands."
   ]
  },
  {
   "cell_type": "raw",
   "metadata": {},
   "source": [
    "Operator\t                               Description\n",
    "& (binary and)\t        If both the bits at the same place in two operands are 1, \n",
    "                        then 1 is copied to the result. Otherwise, 0 is copied.\n",
    "                        \n",
    "| (binary or)\t        The resulting bit will be 0 if both the bits are zero;\n",
    "                        otherwise, the resulting bit will be 1.\n",
    "                        \n",
    "^ (binary xor)      \tThe resulting bit will be 1 if both the bits are different;\n",
    "                        otherwise, the resulting bit will be 0.\n",
    "                        \n",
    "~ (negation)        \tIt calculates the negation of each bit of the operand, \n",
    "                        i.e., if the bit is 0, the resulting bit will be 1 and vice versa.\n",
    "                        \n",
    "<< (left shift)\t        The left operand value is moved left by the number of bits present in the right operand.\n",
    "\n",
    ">> (right shift)\t    The left operand is moved right by the number of bits present in the right operand."
   ]
  },
  {
   "cell_type": "markdown",
   "metadata": {},
   "source": [
    "#### Logical Operators:\n",
    "\n",
    "The logical operators are used primarily in the expression evaluation to make a decision. Python supports the following logical operators."
   ]
  },
  {
   "cell_type": "raw",
   "metadata": {},
   "source": [
    "\n",
    "Operator                    \tDescription\n",
    "and\t                   If both the expression are true, then the condition will be true. \n",
    "                       If a and b are the two expressions, \n",
    "                       a → True, \n",
    "                       b → True\n",
    "                       a and b → True.\n",
    "                       \n",
    "or\t                   If one of the expressions is true, then the condition will be true.\n",
    "                       If a and b are the two expressions,\n",
    "                       a → true,\n",
    "                       b → false\n",
    "                       a or b → true.\n",
    "                       \n",
    "not              \t   If an expression a is true, then not (a) will be false and vice versa."
   ]
  },
  {
   "cell_type": "markdown",
   "metadata": {},
   "source": [
    "#### Membership Operators:\n",
    "\n",
    "Python membership operators are used to check the membership of value inside a Python data structure. If the value is present in the data structure, then the resulting value is true otherwise it returns false."
   ]
  },
  {
   "cell_type": "raw",
   "metadata": {},
   "source": [
    "Operator\t                           Description\n",
    "in\t                    It is evaluated to be true if the first operand is found in the \n",
    "                        second operand (list, tuple, or dictionary).\n",
    "                        \n",
    "not in\t                It is evaluated to be true if the first operand is not found in\n",
    "                        the second operand (list, tuple, or dictionary)."
   ]
  },
  {
   "cell_type": "markdown",
   "metadata": {},
   "source": [
    "#### Identity Operators:\n",
    "\n",
    "The identity operators are used to decide whether an element certain class or type."
   ]
  },
  {
   "cell_type": "raw",
   "metadata": {},
   "source": [
    "Operator                     \tDescription\n",
    "is\t                 It is evaluated to be true if the reference present at both\n",
    "                     sides point to the same object.\n",
    "                     \n",
    "is not\t             It is evaluated to be true if the reference present at both\n",
    "                     sides do not point to the same object."
   ]
  }
 ],
 "metadata": {
  "kernelspec": {
   "display_name": "Python 3 (ipykernel)",
   "language": "python",
   "name": "python3"
  },
  "language_info": {
   "codemirror_mode": {
    "name": "ipython",
    "version": 3
   },
   "file_extension": ".py",
   "mimetype": "text/x-python",
   "name": "python",
   "nbconvert_exporter": "python",
   "pygments_lexer": "ipython3",
   "version": "3.9.12"
  }
 },
 "nbformat": 4,
 "nbformat_minor": 2
}
