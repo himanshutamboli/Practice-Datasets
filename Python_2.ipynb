{
 "cells": [
  {
   "cell_type": "markdown",
   "metadata": {},
   "source": [
    "# Python if-else statements\n",
    "\n",
    "Decision making is the most important aspect of almost all the programming languages. As the name implies, decision making allows us to run a particular block of code for a particular decision. Here, the decisions are made on the validity of the particular conditions. Condition checking is the backbone of decision making.\n",
    "\n",
    "In Python, decision making is performed by the following statements:"
   ]
  },
  {
   "cell_type": "markdown",
   "metadata": {},
   "source": [
    "- <b>If-statement: The </b>if statement is used to test a specific condition. If the condition is true, a block of code (if-block) will be executed.\n",
    "\n",
    "- <b>If-else statement</b>: The if-else statement is similar to if statement except the fact that, it also provides the block of the code for the False case of the condition to be checked. If the condition provided in the if-statement is False, then the else statement will be executed.\n",
    "\n",
    "- <b>elif-statement: Th</b>e elif-statement is used to check multiple conditions, if any condition satisfies the operation, it will stop checking otherwise it will continue to check conditions.\n",
    "\n",
    "- <b>Nested if-statement</b>: Nested if-statements enable us to use if-else-statement inside an outer if statement."
   ]
  },
  {
   "cell_type": "markdown",
   "metadata": {},
   "source": [
    "## Indentation in Python\n",
    "\n",
    "For the ease of programming and to achieve simplicity, Python doesn't allow the use of parentheses for the block level code. In Python, indentation is used to declare a statement-block. If two statements are at the same indentation level, then they are the part of the same block.\n",
    "\n",
    "Generally, four spaces are given to indent the statements which are a typical amount of indentation in Python.\n",
    "\n",
    "Indentation is the most used part of the Python language since it declares the block of code. All the statements of one block are intended at the same level indentation. We will see how the actual indentation takes place in decision making and other stuff in Python."
   ]
  },
  {
   "cell_type": "markdown",
   "metadata": {},
   "source": [
    "## The if-statement\n",
    "\n",
    "The if-statement is used to test a particular condition and if the condition is True, it executes a block of code known as if-block. The condition of if-statement can be any valid logical expression which can be either evaluated to **_True_** or **_False_**."
   ]
  },
  {
   "cell_type": "raw",
   "metadata": {},
   "source": [
    "Syntax:\n",
    "\n",
    "if expression:\n",
    "    statement"
   ]
  },
  {
   "cell_type": "code",
   "execution_count": 1,
   "metadata": {},
   "outputs": [
    {
     "name": "stdout",
     "output_type": "stream",
     "text": [
      "Enter the number: 3\n"
     ]
    }
   ],
   "source": [
    "# Example 1:\n",
    "\n",
    "num=int(input(\"Enter the number: \"))\n",
    "if num%2==0:\n",
    "    print(\"Number is Even\")"
   ]
  },
  {
   "cell_type": "code",
   "execution_count": 2,
   "metadata": {},
   "outputs": [
    {
     "name": "stdout",
     "output_type": "stream",
     "text": [
      "Enter a: 3\n",
      "Enter b: 6\n",
      "Enter c: 9\n",
      "c is largest\n"
     ]
    }
   ],
   "source": [
    "# Example 2: Program to print the largest of the three numbers\n",
    "\n",
    "a=int(input(\"Enter a: \"));  \n",
    "b=int(input(\"Enter b: \"));  \n",
    "c=int(input(\"Enter c: \"));\n",
    "if a>b and a>c:\n",
    "    print(\"a is largest\");\n",
    "if b>a and b>c:\n",
    "    print(\"b is largest\");\n",
    "if c>a and c>b:\n",
    "    print(\"c is largest\");"
   ]
  },
  {
   "cell_type": "markdown",
   "metadata": {},
   "source": [
    "## The if-else statement\n",
    "\n",
    "The if-else statement provides an else-block combined with the if-statement which is executed in the False case of the condition.\n",
    "\n",
    "If the condition is True, then the if-block is executed. Otherwise, the else-block is executed."
   ]
  },
  {
   "cell_type": "raw",
   "metadata": {},
   "source": [
    "Syntax:\n",
    "\n",
    "if condition:\n",
    "    # block of statements\n",
    "else:\n",
    "    # another block of statements (else-block)"
   ]
  },
  {
   "cell_type": "code",
   "execution_count": 3,
   "metadata": {},
   "outputs": [
    {
     "name": "stdout",
     "output_type": "stream",
     "text": [
      "Enter your age: 26\n",
      "You are eligible to vote!\n"
     ]
    }
   ],
   "source": [
    "# Example 3: Program to check whether a person is eligible to vote or not\n",
    "\n",
    "age=int (input(\"Enter your age: \"))\n",
    "if age>=18:\n",
    "    print(\"You are eligible to vote!\");\n",
    "else:\n",
    "    print(\"Unfortunately, you are not eligible to vote!\");"
   ]
  },
  {
   "cell_type": "code",
   "execution_count": 4,
   "metadata": {},
   "outputs": [
    {
     "name": "stdout",
     "output_type": "stream",
     "text": [
      "Enter your age: 17\n",
      "Unfortunately, you are not eligible to vote!\n"
     ]
    }
   ],
   "source": [
    "# Example 3: Program to check whether a person is eligible to vote or not\n",
    "\n",
    "age=int (input(\"Enter your age: \"))\n",
    "if age>=18:\n",
    "    print(\"You are eligible to vote!\");\n",
    "else:\n",
    "    print(\"Unfortunately, you are not eligible to vote!\");"
   ]
  },
  {
   "cell_type": "code",
   "execution_count": 5,
   "metadata": {},
   "outputs": [
    {
     "name": "stdout",
     "output_type": "stream",
     "text": [
      "Enter the number: 2\n",
      "Number is Even\n"
     ]
    }
   ],
   "source": [
    "# Example 4: Program to check whether a number is Even or Odd\n",
    "\n",
    "num=int(input(\"Enter the number: \"))\n",
    "if num%2==0:\n",
    "    print(\"Number is Even\")\n",
    "else:\n",
    "    print(\"Number is Odd\")"
   ]
  },
  {
   "cell_type": "code",
   "execution_count": 6,
   "metadata": {},
   "outputs": [
    {
     "name": "stdout",
     "output_type": "stream",
     "text": [
      "Enter the number: 7\n",
      "Number is Odd\n"
     ]
    }
   ],
   "source": [
    "# Example 4: Program to check whether a number is Even or Odd\n",
    "\n",
    "num=int(input(\"Enter the number: \"))\n",
    "if num%2==0:\n",
    "    print(\"Number is Even\")\n",
    "else:\n",
    "    print(\"Number is Odd\")"
   ]
  },
  {
   "cell_type": "markdown",
   "metadata": {},
   "source": [
    "## The elif-statement\n",
    "\n",
    "The elif-statement enables us to check multiple conditions and execute the specific block of statements depending upon the True condition among them. We can have any number of elif-statements in our program depending upon our need. However, using _elif_ is optional.\n",
    "\n",
    "The elif-statement works like an if-else-if ladder statement in C. It must be succeeded by an if-statement."
   ]
  },
  {
   "cell_type": "raw",
   "metadata": {},
   "source": [
    "Syntax:\n",
    "\n",
    "if expression 1:\n",
    "    # block of statements\n",
    "\n",
    "elif expression 2:\n",
    "    # block of statements\n",
    "\n",
    "elif expression 3:\n",
    "    # block of statements\n",
    "\n",
    "else:\n",
    "    # block of statements"
   ]
  },
  {
   "cell_type": "code",
   "execution_count": 7,
   "metadata": {},
   "outputs": [
    {
     "name": "stdout",
     "output_type": "stream",
     "text": [
      "Enter the number: 75\n",
      "Number is not equal to 10, 50 or 100\n"
     ]
    }
   ],
   "source": [
    "# Example 5: Check if a given number is equal to 10, 50, 100\n",
    "\n",
    "number=int(input(\"Enter the number: \")) \n",
    "if number==10:\n",
    "    print(\"Number is equals to 10\")\n",
    "elif number==50:\n",
    "    print(\"Number is equal to 50\");\n",
    "elif number==100:\n",
    "    print(\"Number is equal to 100\");\n",
    "else:\n",
    "    print(\"Number is not equal to 10, 50 or 100\");"
   ]
  },
  {
   "cell_type": "code",
   "execution_count": 8,
   "metadata": {},
   "outputs": [
    {
     "name": "stdout",
     "output_type": "stream",
     "text": [
      "Enter the marks: 96\n",
      "You suck! Scored A grade.\n"
     ]
    }
   ],
   "source": [
    "# Example 6: Check if the student has passed with which grade\n",
    "\n",
    "marks=int(input(\"Enter the marks: \"))\n",
    "if marks>85 and marks<=100:\n",
    "   print(\"You suck! Scored A grade.\")\n",
    "elif marks>60 and marks<=85:\n",
    "   print(\"You could suck better! Scored B+ grade.\")\n",
    "elif marks>40 and marks<=60:\n",
    "   print(\"Sucker! Scored B grade.\")\n",
    "elif (marks>30 and marks<=40):\n",
    "   print(\"Congrats for C grade.\")\n",
    "else:\n",
    "   print(\"Pleasantly F for you. Fucked.\")"
   ]
  },
  {
   "cell_type": "code",
   "execution_count": 9,
   "metadata": {},
   "outputs": [
    {
     "name": "stdout",
     "output_type": "stream",
     "text": [
      "Enter the marks: 74\n",
      "You could suck better! Scored B+ grade.\n"
     ]
    }
   ],
   "source": [
    "# Example 6: Check if the student has passed with which grade\n",
    "\n",
    "marks=int(input(\"Enter the marks: \"))\n",
    "if marks>85 and marks<=100:\n",
    "   print(\"You suck! Scored A grade.\")\n",
    "elif marks>60 and marks<=85:\n",
    "   print(\"You could suck better! Scored B+ grade.\")\n",
    "elif marks>40 and marks<=60:\n",
    "   print(\"Sucker! Scored B grade.\")\n",
    "elif (marks>30 and marks<=40):\n",
    "   print(\"Congrats for C grade.\")\n",
    "else:\n",
    "   print(\"Pleasantly F for you. Fucked.\")"
   ]
  },
  {
   "cell_type": "code",
   "execution_count": 10,
   "metadata": {},
   "outputs": [
    {
     "name": "stdout",
     "output_type": "stream",
     "text": [
      "Enter the marks: 58\n",
      "Sucker! Scored B grade.\n"
     ]
    }
   ],
   "source": [
    "# Example 6: Check if the student has passed with which grade\n",
    "\n",
    "marks=int(input(\"Enter the marks: \"))\n",
    "if marks>85 and marks<=100:\n",
    "   print(\"You suck! Scored A grade.\")\n",
    "elif marks>60 and marks<=85:\n",
    "   print(\"You could suck better! Scored B+ grade.\")\n",
    "elif marks>40 and marks<=60:\n",
    "   print(\"Sucker! Scored B grade.\")\n",
    "elif (marks>30 and marks<=40):\n",
    "   print(\"Congrats for C grade.\")\n",
    "else:\n",
    "   print(\"Pleasantly F for you. Fucked.\")"
   ]
  },
  {
   "cell_type": "code",
   "execution_count": 11,
   "metadata": {},
   "outputs": [
    {
     "name": "stdout",
     "output_type": "stream",
     "text": [
      "Enter the marks: 35\n",
      "Congrats for C grade.\n"
     ]
    }
   ],
   "source": [
    "# Example 6: Check if the student has passed with which grade\n",
    "\n",
    "marks=int(input(\"Enter the marks: \"))\n",
    "if marks>85 and marks<=100:\n",
    "   print(\"You suck! Scored A grade.\")\n",
    "elif marks>60 and marks<=85:\n",
    "   print(\"You could suck better! Scored B+ grade.\")\n",
    "elif marks>40 and marks<=60:\n",
    "   print(\"Sucker! Scored B grade.\")\n",
    "elif (marks>30 and marks<=40):\n",
    "   print(\"Congrats for C grade.\")\n",
    "else:\n",
    "   print(\"Pleasantly F for you. Fucked.\")"
   ]
  },
  {
   "cell_type": "code",
   "execution_count": 12,
   "metadata": {},
   "outputs": [
    {
     "name": "stdout",
     "output_type": "stream",
     "text": [
      "Enter the marks: 20\n",
      "Pleasantly F for you. Fucked.\n"
     ]
    }
   ],
   "source": [
    "# Example 6: Check if the student has passed with which grade\n",
    "\n",
    "marks=int(input(\"Enter the marks: \"))\n",
    "if marks>85 and marks<=100:\n",
    "   print(\"You suck! Scored A grade.\")\n",
    "elif marks>60 and marks<=85:\n",
    "   print(\"You could suck better! Scored B+ grade.\")\n",
    "elif marks>40 and marks<=60:\n",
    "   print(\"Sucker! Scored B grade.\")\n",
    "elif (marks>30 and marks<=40):\n",
    "   print(\"Congrats for C grade.\")\n",
    "else:\n",
    "   print(\"Pleasantly F for you. Fucked.\")"
   ]
  },
  {
   "cell_type": "markdown",
   "metadata": {},
   "source": [
    "## The nested if-statement\n",
    "\n",
    "The nested if-statement enables us to check multiple conditions within conditions and execute the specific block of statements depending upon the True condition among them. We can have any number of if-else, elif-statements in our program depending upon our need. However, to use _elif_ is optional."
   ]
  },
  {
   "cell_type": "code",
   "execution_count": 13,
   "metadata": {},
   "outputs": [
    {
     "name": "stdout",
     "output_type": "stream",
     "text": [
      "Enter your age: 16\n",
      "You are minor. Dick!\n"
     ]
    }
   ],
   "source": [
    "# Example 7: Check if you are an adult and a senior citizen\n",
    "\n",
    "age=int(input(\"Enter your age: \"))\n",
    "\n",
    "if age>18:\n",
    "    print(\"You are an adult\")\n",
    "    if age>65:\n",
    "        print(\"You are a senior citizen as well. Buddhey\")\n",
    "    else:\n",
    "        print(\"You are not a Buddhey\")\n",
    "else:\n",
    "    print(\"You are minor. Dick!\")"
   ]
  },
  {
   "cell_type": "code",
   "execution_count": 14,
   "metadata": {},
   "outputs": [
    {
     "name": "stdout",
     "output_type": "stream",
     "text": [
      "Enter your age: 26\n",
      "You are an adult\n",
      "You are not a Buddhey\n"
     ]
    }
   ],
   "source": [
    "# Example 7: Check if you are an adult and a senior citizen\n",
    "\n",
    "age=int(input(\"Enter your age: \"))\n",
    "\n",
    "if age>18:\n",
    "    print(\"You are an adult\")\n",
    "    if age>65:\n",
    "        print(\"You are a senior citizen as well. Buddhey\")\n",
    "    else:\n",
    "        print(\"You are not a Buddhey\")\n",
    "else:\n",
    "    print(\"You are minor. Dick!\")"
   ]
  },
  {
   "cell_type": "code",
   "execution_count": 15,
   "metadata": {},
   "outputs": [
    {
     "name": "stdout",
     "output_type": "stream",
     "text": [
      "Enter your age: 66\n",
      "You are an adult\n",
      "You are a senior citizen as well. Buddhey\n"
     ]
    }
   ],
   "source": [
    "# Example 7: Check if you are an adult and a senior citizen\n",
    "\n",
    "age=int(input(\"Enter your age: \"))\n",
    "\n",
    "if age>18:\n",
    "    print(\"You are an adult\")\n",
    "    if age>65:\n",
    "        print(\"You are a senior citizen as well. Buddhey\")\n",
    "    else:\n",
    "        print(\"You are not a Buddhey\")\n",
    "else:\n",
    "    print(\"You are minor. Dick!\")"
   ]
  },
  {
   "cell_type": "code",
   "execution_count": 16,
   "metadata": {},
   "outputs": [
    {
     "name": "stdout",
     "output_type": "stream",
     "text": [
      "Enter the year you want to check: 2022\n",
      "2022 is not a leap-year\n"
     ]
    }
   ],
   "source": [
    "# Example 8: Check if given year is leap-year\n",
    "\n",
    "year=int(input(\"Enter the year you want to check: \"))\n",
    "\n",
    "if (year%4)==0:\n",
    "   if (year%100)==0:\n",
    "       if (year%400)==0:\n",
    "           print(\"{0} is a leap-year\".format(year))\n",
    "       else:\n",
    "           print(\"{0} is not a leap-year\".format(year))\n",
    "   else:\n",
    "       print(\"{0} is a leap-year\".format(year))\n",
    "else:\n",
    "   print(\"{0} is not a leap-year\".format(year))"
   ]
  },
  {
   "cell_type": "code",
   "execution_count": 17,
   "metadata": {},
   "outputs": [
    {
     "name": "stdout",
     "output_type": "stream",
     "text": [
      "Enter the year you want to check: 2024\n",
      "2024 is a leap-year\n"
     ]
    }
   ],
   "source": [
    "# Example 8: Check if given year is leap-year\n",
    "\n",
    "year=int(input(\"Enter the year you want to check: \"))\n",
    "\n",
    "if (year%4)==0:\n",
    "   if (year%100)==0:\n",
    "       if (year%400)==0:\n",
    "           print(\"{0} is a leap-year\".format(year))\n",
    "       else:\n",
    "           print(\"{0} is not a leap-year\".format(year))\n",
    "   else:\n",
    "       print(\"{0} is a leap-year\".format(year))\n",
    "else:\n",
    "   print(\"{0} is not a leap-year\".format(year))"
   ]
  },
  {
   "cell_type": "code",
   "execution_count": 18,
   "metadata": {},
   "outputs": [
    {
     "name": "stdout",
     "output_type": "stream",
     "text": [
      "Enter youe age: 16\n",
      "You are eligible for Learner's Driving Licence for 100cc non-gear vehicle.\n"
     ]
    }
   ],
   "source": [
    "# Example 9: Check Driving Licence eligiblity in the country\n",
    "\n",
    "age=int(input(\"Enter youe age: \"))\n",
    "if (age>=18):\n",
    "    if age>50:\n",
    "        print(\"Your Driving Licence has expired, kindly renew your Licence.\")\n",
    "    else:\n",
    "        print(\"You are eligible for Driving Licence.\")\n",
    "else:\n",
    "    if age>=16:\n",
    "        print(\"You are eligible for Learner's Driving Licence for 100cc non-gear vehicle.\")\n",
    "    else:\n",
    "        print(\"You are not eligible for Driving Licence.\")"
   ]
  },
  {
   "cell_type": "code",
   "execution_count": 19,
   "metadata": {},
   "outputs": [
    {
     "name": "stdout",
     "output_type": "stream",
     "text": [
      "Enter youe age: 19\n",
      "You are eligible for Driving Licence.\n"
     ]
    }
   ],
   "source": [
    "# Example 9: Check Driving Licence eligiblity in the country\n",
    "\n",
    "age=int(input(\"Enter youe age: \"))\n",
    "if (age>=18):\n",
    "    if age>50:\n",
    "        print(\"Your Driving Licence has expired, kindly renew your Licence.\")\n",
    "    else:\n",
    "        print(\"You are eligible for Driving Licence.\")\n",
    "else:\n",
    "    if age>=16:\n",
    "        print(\"You are eligible for Learner's Driving Licence for 100cc non-gear vehicle.\")\n",
    "    else:\n",
    "        print(\"You are not eligible for Driving Licence.\")"
   ]
  },
  {
   "cell_type": "code",
   "execution_count": 20,
   "metadata": {},
   "outputs": [
    {
     "name": "stdout",
     "output_type": "stream",
     "text": [
      "Enter youe age: 55\n",
      "Your Driving Licence has expired, kindly renew your Licence.\n"
     ]
    }
   ],
   "source": [
    "# Example 9: Check Driving Licence eligiblity in the country\n",
    "\n",
    "age=int(input(\"Enter youe age: \"))\n",
    "if (age>=18):\n",
    "    if age>50:\n",
    "        print(\"Your Driving Licence has expired, kindly renew your Licence.\")\n",
    "    else:\n",
    "        print(\"You are eligible for Driving Licence.\")\n",
    "else:\n",
    "    if age>=16:\n",
    "        print(\"You are eligible for Learner's Driving Licence for 100cc non-gear vehicle.\")\n",
    "    else:\n",
    "        print(\"You are not eligible for Driving Licence.\")"
   ]
  }
 ],
 "metadata": {
  "kernelspec": {
   "display_name": "Python 3 (ipykernel)",
   "language": "python",
   "name": "python3"
  },
  "language_info": {
   "codemirror_mode": {
    "name": "ipython",
    "version": 3
   },
   "file_extension": ".py",
   "mimetype": "text/x-python",
   "name": "python",
   "nbconvert_exporter": "python",
   "pygments_lexer": "ipython3",
   "version": "3.9.12"
  }
 },
 "nbformat": 4,
 "nbformat_minor": 2
}
